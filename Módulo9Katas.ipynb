{
 "cells": [
  {
   "cell_type": "markdown",
   "metadata": {},
   "source": [
    "# Ejercicio: Uso de funciones en Python\n",
    "## Ejercicio 1: Trabajar con argumentos en funciones\n",
    "\n",
    "Los argumentos requeridos en las funciones se utilizan cuando las funciones necesitan que esos argumentos funcionen correctamente. En este ejercicio, construirás un informe de combustible que requiere información de varias ubicaciones de combustible en todo el cohete."
   ]
  },
  {
   "cell_type": "code",
   "execution_count": 1,
   "metadata": {},
   "outputs": [
    {
     "name": "stdout",
     "output_type": "stream",
     "text": [
      "Reporte:\n",
      "    Total: 93.66666666666667%\n",
      "    Tanque principal: 15%\n",
      "    Tanque externo: 52%\n",
      "    Tanque de hidrogeno: 80%\n",
      "    \n"
     ]
    }
   ],
   "source": [
    "def reporte_combustible(tanque1,tanque2,tanque3):\n",
    "    total = tanque1 + tanque2 + tanque3 / 3\n",
    "\n",
    "    return f\"\"\"Reporte:\n",
    "    Total: {total}%\n",
    "    Tanque principal: {tanque1}%\n",
    "    Tanque externo: {tanque2}%\n",
    "    Tanque de hidrogeno: {tanque3}%\n",
    "    \"\"\"\n",
    "\n",
    "print(reporte_combustible(15,52,80))\n",
    "\n"
   ]
  },
  {
   "cell_type": "code",
   "execution_count": 4,
   "metadata": {},
   "outputs": [
    {
     "name": "stdout",
     "output_type": "stream",
     "text": [
      "Reporte:\n",
      "    Total: 63.333333333333336%\n",
      "    Tanque principal: 70%\n",
      "    Tanque externo: 60%\n",
      "    Tanque de hidrogeno: 60%\n",
      "    \n"
     ]
    }
   ],
   "source": [
    "def promedio(datos):\n",
    "    total = sum(datos)\n",
    "    tanques = len(datos)\n",
    "    return total / tanques\n",
    "\n",
    "promedio([15,52,80])\n",
    "\n",
    "def reporte_combustible(tanque1,tanque2,tanque3):\n",
    "    \n",
    "\n",
    "    return f\"\"\"Reporte:\n",
    "    Total: {promedio([tanque1,tanque2,tanque3])}%\n",
    "    Tanque principal: {tanque1}%\n",
    "    Tanque externo: {tanque2}%\n",
    "    Tanque de hidrogeno: {tanque3}%\n",
    "    \"\"\"\n",
    "\n",
    "print(reporte_combustible(70,60,60))\n"
   ]
  },
  {
   "cell_type": "markdown",
   "metadata": {},
   "source": [
    "# Ejercicio 2: Trabajo con argumentos de palabra clave\n",
    "## Ejercicio : Trabajar con argumentos de palabras clave en funciones\n",
    "\n",
    "En este ejercicio, construirás un informe de cohete que requiere varias piezas de información, como el tiempo hasta el destino, el combustible a la izquierda y el nombre del destino. Comienza por crear una función que creará un informe preciso de la misión:"
   ]
  },
  {
   "cell_type": "code",
   "execution_count": 28,
   "metadata": {},
   "outputs": [
    {
     "name": "stdout",
     "output_type": "stream",
     "text": [
      "\n",
      "    Destino de la mision Moon\n",
      "    Total de horas: 65 minutos\n",
      "    Total de combustible: 500000 galones\n",
      "    \n",
      "\n",
      "     Informe de Lanzamiento\n",
      "     Destino: Moon\n",
      "     Tiempo total: 74 hrs\n",
      "     Combustible total: 500000 galones\n",
      "     \n",
      "\n",
      "     Informe de Lanzamiento\n",
      "     Destino: Luna\n",
      "     Tiempo total: 74 hrs\n",
      "     Combustible total: 500000 galones\n",
      "     principal tanque -> 300000 galones ->\n",
      "externo tanque -> 200000 galones ->\n",
      "\n",
      "\n",
      "    Mission to Moon\n",
      "    Total travel time: 74 minutes\n",
      "    Total fuel left: 500000\n",
      "    main tank --> 300000 gallons left\n",
      "external tank --> 200000 gallons left\n",
      "\n"
     ]
    }
   ],
   "source": [
    "def informe(pre_lanzamiento, hora_vuelo,destino,tanque_externo,tanque_principal):\n",
    "    return f\"\"\"\n",
    "    Destino de la mision {destino}\n",
    "    Total de horas: {pre_lanzamiento + hora_vuelo} minutos\n",
    "    Total de combustible: {tanque_externo + tanque_principal} galones\n",
    "    \"\"\"\n",
    "    \n",
    "print(informe(14, 51, \"Moon\", 200000, 300000))\n",
    "\n",
    "\n",
    "\n",
    "def informe(destino,*minutos,**tanques):\n",
    "\n",
    "    return f\"\"\"\n",
    "     Informe de Lanzamiento\n",
    "     Destino: {destino}\n",
    "     Tiempo total: {sum(minutos)} hrs\n",
    "     Combustible total: {sum(tanques.values())} galones\n",
    "     \"\"\"\n",
    "\n",
    "\n",
    "print(informe( \"Moon\", 8, 11, 55, main=300000, external=200000))\n",
    "\n",
    "\n",
    "def informe(destino,*minutos,**tanques):\n",
    "    info = f\"\"\"\n",
    "     Informe de Lanzamiento\n",
    "     Destino: {destino}\n",
    "     Tiempo total: {sum(minutos)} hrs\n",
    "     Combustible total: {sum(tanques.values())} galones\n",
    "     \"\"\"\n",
    "\n",
    "    for principal, galones in tanques.items():\n",
    "       info += f\"{principal} tanque -> {galones} galones ->\\n\"\n",
    "\n",
    "    return info\n",
    "\n",
    "print(informe(\"Luna\", 8, 11, 55, principal=300000, externo=200000))\n",
    "\n",
    "\n",
    "\n",
    "\n",
    "    \n",
    "\n",
    "\n",
    "\n"
   ]
  },
  {
   "cell_type": "code",
   "execution_count": 24,
   "metadata": {},
   "outputs": [
    {
     "name": "stdout",
     "output_type": "stream",
     "text": [
      "\n",
      "    Mission to Moon\n",
      "    Total travel time: 74 minutes\n",
      "    Total fuel left: 500000\n",
      "    main tank --> 300000 gallons left\n",
      "external tank --> 200000 gallons left\n",
      "\n"
     ]
    }
   ],
   "source": [
    "def mission_report(destination, *minutes, **fuel_reservoirs):\n",
    "    main_report = f\"\"\"\n",
    "    Mission to {destination}\n",
    "    Total travel time: {sum(minutes)} minutes\n",
    "    Total fuel left: {sum(fuel_reservoirs.values())}\n",
    "    \"\"\"\n",
    "    for tank_name, gallons in fuel_reservoirs.items():\n",
    "        main_report += f\"{tank_name} tank --> {gallons} gallons left\\n\"\n",
    "    return main_report\n",
    "\n",
    "print(mission_report(\"Moon\", 8, 11, 55, main=300000, external=200000))"
   ]
  }
 ],
 "metadata": {
  "interpreter": {
   "hash": "9ca3068a01d4816a8eddff3cc66942d38fe1510ebd3e0618f1268f77e2db91a5"
  },
  "kernelspec": {
   "display_name": "Python 3.10.2 64-bit",
   "language": "python",
   "name": "python3"
  },
  "language_info": {
   "codemirror_mode": {
    "name": "ipython",
    "version": 3
   },
   "file_extension": ".py",
   "mimetype": "text/x-python",
   "name": "python",
   "nbconvert_exporter": "python",
   "pygments_lexer": "ipython3",
   "version": "3.10.2"
  },
  "orig_nbformat": 4
 },
 "nbformat": 4,
 "nbformat_minor": 2
}
