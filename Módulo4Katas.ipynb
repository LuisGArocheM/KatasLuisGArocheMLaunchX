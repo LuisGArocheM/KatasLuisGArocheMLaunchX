{
 "cells": [
  {
   "cell_type": "markdown",
   "metadata": {},
   "source": [
    "# Conceptos básicos de cadenas en Python\n",
    "\n",
    "## Ejercicio 1: Transformar cadenas\n"
   ]
  },
  {
   "cell_type": "code",
   "execution_count": 26,
   "metadata": {},
   "outputs": [
    {
     "name": "stdout",
     "output_type": "stream",
     "text": [
      "['Interesting facts about the Moon', \" The Moon is Earth's only satellite\", 'There are several interesting facts about the Moon and how it affects life here on Earth', '\\nOn average, the Moon moves 4cm away from the Earth every year', ' This yearly drift is not significant enough to cause immediate effects on Earth', ' The high']\n",
      "average\n",
      "average\n",
      "average\n",
      "average\n",
      "average\n",
      "average\n"
     ]
    }
   ],
   "source": [
    "text = '''Interesting facts about the Moon. The Moon is Earth's only satellite.There are several interesting facts about the Moon and how it affects life here on Earth.\n",
    "On average, the Moon moves 4cm away from the Earth every year. This yearly drift is not significant enough to cause immediate effects on Earth. The high'''\n",
    "\n",
    "texto_partes = text.split( '.')\n",
    "\n",
    "print(texto_partes)\n",
    "\n",
    "\n",
    "palabras = [\"average\",\"temperatuve\", \"distance\"]\n",
    "\n",
    "for palabra in texto_partes:\n",
    "    for palabra in palabras:\n",
    "        if palabra in palabras:\n",
    "            # print(palabra)\n",
    "            print(palabra.replace(' C', ' Celsius'))\n",
    "\n",
    "\n",
    "            break\n",
    "\n",
    "\n",
    "\n",
    "\n",
    "\n",
    "\n",
    "\n",
    "\n",
    "\n"
   ]
  },
  {
   "cell_type": "markdown",
   "metadata": {},
   "source": [
    "# Ejercicio 2: Formateando Cadenas\n"
   ]
  },
  {
   "cell_type": "code",
   "execution_count": 48,
   "metadata": {},
   "outputs": [
    {
     "name": "stdout",
     "output_type": "stream",
     "text": [
      "Un Poco Sobre La Luna Y La Tierra\n",
      " **************************************** \n",
      "La Tierra tiene una\n",
      "gravedad  diferente a la Luna\n",
      " la cual es de 1.6199999999999999 m/2\n",
      "\n"
     ]
    }
   ],
   "source": [
    "# Datos con los que vas a trabajar\n",
    "name = \"Luna\"\n",
    "gravity = 0.00162 # in kms\n",
    "planet = \"Tierra\"\n",
    "\n",
    "title = 'Un poco sobre la {} y la {}'.format(name,planet)\n",
    "\n",
    "\n",
    "\n",
    "\n",
    "info = f\"\"\" {'*' * 40} \n",
    "La {planet} tiene una\n",
    "gravedad  diferente a la {name}\n",
    " la cual es de { gravity * 1000 } m/2\"\"\"\n",
    "\n",
    "\n",
    "\n",
    "\n",
    "union = f\"\"\"{title.title()}\n",
    "{info}\n",
    "\"\"\"\n",
    "\n",
    "print(union)\n",
    "\n"
   ]
  },
  {
   "cell_type": "code",
   "execution_count": 54,
   "metadata": {},
   "outputs": [
    {
     "name": "stdout",
     "output_type": "stream",
     "text": [
      "Un Poco Sobre Marte Y Ganímedes\n",
      "  ************************************************** \n",
      " Marte tiene una\n",
      "gravedad  diferente a la Ganímedes\n",
      " la cual es de 1.4300000000000002 m/2\n",
      " \n"
     ]
    }
   ],
   "source": [
    "planeta = 'Marte'\n",
    "gravedad = '0.00143'\n",
    "nombre = 'Ganímedes'\n",
    "\n",
    "tg = 0.00143 * 1000\n",
    "\n",
    "titulo = \"Un poco sobre {} y {}\".format(planeta, nombre)\n",
    "\n",
    "info2 = f\"\"\" {'*' * 50} \n",
    " {planeta} tiene una\n",
    "gravedad  diferente a la {nombre}\n",
    " la cual es de {tg} m/2\"\"\"\n",
    "\n",
    "union2 = f\"\"\"{titulo.title()}\n",
    " {info2}\n",
    " \"\"\"\n",
    "\n",
    "print(union2)\n",
    "\n"
   ]
  }
 ],
 "metadata": {
  "interpreter": {
   "hash": "9ca3068a01d4816a8eddff3cc66942d38fe1510ebd3e0618f1268f77e2db91a5"
  },
  "kernelspec": {
   "display_name": "Python 3.10.2 64-bit",
   "language": "python",
   "name": "python3"
  },
  "language_info": {
   "codemirror_mode": {
    "name": "ipython",
    "version": 3
   },
   "file_extension": ".py",
   "mimetype": "text/x-python",
   "name": "python",
   "nbconvert_exporter": "python",
   "pygments_lexer": "ipython3",
   "version": "3.10.2"
  },
  "orig_nbformat": 4
 },
 "nbformat": 4,
 "nbformat_minor": 2
}
