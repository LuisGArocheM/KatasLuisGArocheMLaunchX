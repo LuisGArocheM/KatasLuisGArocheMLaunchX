{
 "cells": [
  {
   "cell_type": "markdown",
   "metadata": {},
   "source": [
    "# Ejercicio1 - Utilizar operadores aritméticos\n",
    "\n",
    "Escenario: Crear un programa para calcular la distancia entre planetas\n",
    "Imagina que estás creando un programa para calcular la distancia entre planetas. El programa permite a un usuario ingresar las distancias de dos planetas desde el sol, y calcula la distancia entre esos dos planetas. Además, deseas proporcionar la distancia tanto en millas como en kilómetros."
   ]
  },
  {
   "cell_type": "code",
   "execution_count": 1,
   "metadata": {},
   "outputs": [
    {
     "name": "stdout",
     "output_type": "stream",
     "text": [
      "628949330\n",
      "390577533.93\n"
     ]
    }
   ],
   "source": [
    "tierra = 149597870\n",
    "jupiter = 778547200\n",
    "\n",
    "distancia = jupiter - tierra \n",
    "\n",
    "print(distancia)\n",
    "\n",
    "distancia_millas = distancia * 0.621\n",
    "print(distancia_millas)\n"
   ]
  },
  {
   "cell_type": "markdown",
   "metadata": {},
   "source": [
    "# Ejercicio 2: convierte cadenas en números y usa valores absolutos\n"
   ]
  },
  {
   "cell_type": "code",
   "execution_count": 6,
   "metadata": {},
   "outputs": [
    {
     "name": "stdout",
     "output_type": "stream",
     "text": [
      "1622600000\n",
      "1007634600.0\n"
     ]
    }
   ],
   "source": [
    "planeta_1 = int(input(\"Ingrese la distancia del primer planeta\"))\n",
    "planeta_2 = int(input(\"Ingrese la distancia del segundo planeta\"))\n",
    "\n",
    "\n",
    "\n",
    "distancia_sol = planeta_2 - planeta_1\n",
    "print(distancia_sol)\n",
    "\n",
    "total = distancia_sol * 0.621\n",
    "\n",
    "print(total)\n"
   ]
  }
 ],
 "metadata": {
  "interpreter": {
   "hash": "9ca3068a01d4816a8eddff3cc66942d38fe1510ebd3e0618f1268f77e2db91a5"
  },
  "kernelspec": {
   "display_name": "Python 3.10.2 64-bit",
   "language": "python",
   "name": "python3"
  },
  "language_info": {
   "codemirror_mode": {
    "name": "ipython",
    "version": 3
   },
   "file_extension": ".py",
   "mimetype": "text/x-python",
   "name": "python",
   "nbconvert_exporter": "python",
   "pygments_lexer": "ipython3",
   "version": "3.10.2"
  },
  "orig_nbformat": 4
 },
 "nbformat": 4,
 "nbformat_minor": 2
}
