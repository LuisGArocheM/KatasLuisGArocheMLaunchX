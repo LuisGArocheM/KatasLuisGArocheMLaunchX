{
 "cells": [
  {
   "cell_type": "markdown",
   "metadata": {},
   "source": [
    "# Ejercicio1: Crear y usar listas de Python\n",
    "Ejercicio: Usar listas para almacenar nombres de planetas"
   ]
  },
  {
   "cell_type": "code",
   "execution_count": 13,
   "metadata": {},
   "outputs": [
    {
     "name": "stdout",
     "output_type": "stream",
     "text": [
      "['Mercurio', 'Venus', 'Tierra', 'Marte', 'Jupiter', 'Saturno', 'Urano', 'Neptuno', 'Plutón']\n",
      "Este es el ultimo planeta Plutón\n"
     ]
    }
   ],
   "source": [
    "planetas = ['Mercurio', 'Venus', 'Tierra', 'Marte', 'Jupiter', 'Saturno', 'Urano', 'Neptuno']\n",
    "planetas.append('Plutón')\n",
    "\n",
    "print(planetas)\n",
    "\n",
    "print('Este es el ultimo planeta', planetas[8])"
   ]
  },
  {
   "cell_type": "markdown",
   "metadata": {},
   "source": [
    "Ejercicio 2: Trabajando con datos de una lista\n"
   ]
  },
  {
   "cell_type": "code",
   "execution_count": 21,
   "metadata": {},
   "outputs": [
    {
     "name": "stdout",
     "output_type": "stream",
     "text": [
      "Ingreso el planeta Jupiter\n",
      "Estos son los planetas mas cercanos al Sol\n",
      "['Mercurio', 'Venus', 'Tierra', 'Marte']\n",
      "Estos son los planetas mas alejados del Sol\n",
      "['Jupiter', 'Saturno', 'Urano', 'Neptuno', 'Plutón']\n"
     ]
    }
   ],
   "source": [
    "entrada = input(\"\"\"Ingrese el nombre de un planeta\\n\n",
    "Ingrese la primera letra en mayuscula\"\"\")\n",
    "\n",
    "planeta = planetas.index(entrada)\n",
    "\n",
    "print('Ingreso el planeta', entrada)\n",
    "\n",
    "print('Estos son los planetas mas cercanos al Sol')\n",
    "print(planetas[0:planeta])\n",
    "\n",
    "\n",
    "print('Estos son los planetas mas alejados del Sol')\n",
    "print(planetas[planeta:])\n"
   ]
  }
 ],
 "metadata": {
  "interpreter": {
   "hash": "9ca3068a01d4816a8eddff3cc66942d38fe1510ebd3e0618f1268f77e2db91a5"
  },
  "kernelspec": {
   "display_name": "Python 3.10.2 64-bit",
   "language": "python",
   "name": "python3"
  },
  "language_info": {
   "name": "python",
   "version": "3.10.2"
  },
  "orig_nbformat": 4
 },
 "nbformat": 4,
 "nbformat_minor": 2
}
