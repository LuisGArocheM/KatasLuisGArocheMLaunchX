{
 "cells": [
  {
   "cell_type": "markdown",
   "metadata": {},
   "source": [
    "# Ejercicio: Uso de funciones en Python\n",
    "## Ejercicio 1: Trabajar con argumentos en funciones\n",
    "\n",
    "Los argumentos requeridos en las funciones se utilizan cuando las funciones necesitan que esos argumentos funcionen correctamente. En este ejercicio, construirás un informe de combustible que requiere información de varias ubicaciones de combustible en todo el cohete."
   ]
  },
  {
   "cell_type": "code",
   "execution_count": 1,
   "metadata": {},
   "outputs": [
    {
     "name": "stdout",
     "output_type": "stream",
     "text": [
      "Reporte:\n",
      "    Total: 93.66666666666667%\n",
      "    Tanque principal: 15%\n",
      "    Tanque externo: 52%\n",
      "    Tanque de hidrogeno: 80%\n",
      "    \n"
     ]
    }
   ],
   "source": [
    "def reporte_combustible(tanque1,tanque2,tanque3):\n",
    "    total = tanque1 + tanque2 + tanque3 / 3\n",
    "\n",
    "    return f\"\"\"Reporte:\n",
    "    Total: {total}%\n",
    "    Tanque principal: {tanque1}%\n",
    "    Tanque externo: {tanque2}%\n",
    "    Tanque de hidrogeno: {tanque3}%\n",
    "    \"\"\"\n",
    "\n",
    "print(reporte_combustible(15,52,80))\n",
    "\n"
   ]
  }
 ],
 "metadata": {
  "interpreter": {
   "hash": "9ca3068a01d4816a8eddff3cc66942d38fe1510ebd3e0618f1268f77e2db91a5"
  },
  "kernelspec": {
   "display_name": "Python 3.10.2 64-bit",
   "language": "python",
   "name": "python3"
  },
  "language_info": {
   "codemirror_mode": {
    "name": "ipython",
    "version": 3
   },
   "file_extension": ".py",
   "mimetype": "text/x-python",
   "name": "python",
   "nbconvert_exporter": "python",
   "pygments_lexer": "ipython3",
   "version": "3.10.2"
  },
  "orig_nbformat": 4
 },
 "nbformat": 4,
 "nbformat_minor": 2
}
